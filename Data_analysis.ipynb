{
  "cells": [
    {
      "cell_type": "code",
      "id": "ycCuRlb8lNmRj9jo2ISRbQTX",
      "metadata": {
        "tags": [],
        "id": "ycCuRlb8lNmRj9jo2ISRbQTX",
        "colab": {
          "base_uri": "https://localhost:8080/"
        },
        "executionInfo": {
          "status": "ok",
          "timestamp": 1713381663251,
          "user_tz": -330,
          "elapsed": 29817,
          "user": {
            "displayName": "",
            "userId": ""
          }
        },
        "outputId": "1aa28a22-2f78-40c9-e70f-d5a70020f6ec"
      },
      "source": [
        "!pip install --upgrade bigframes"
      ],
      "execution_count": 3,
      "outputs": [
        {
          "output_type": "stream",
          "name": "stdout",
          "text": [
            "Requirement already satisfied: bigframes in /usr/local/lib/python3.10/dist-packages (1.0.0)\n",
            "Collecting bigframes\n",
            "  Downloading bigframes-1.2.0-py2.py3-none-any.whl (520 kB)\n",
            "\u001b[2K     \u001b[90m━━━━━━━━━━━━━━━━━━━━━━━━━━━━━━━━━━━━━━━━\u001b[0m \u001b[32m520.8/520.8 kB\u001b[0m \u001b[31m2.7 MB/s\u001b[0m eta \u001b[36m0:00:00\u001b[0m\n",
            "\u001b[?25hRequirement already satisfied: cloudpickle>=2.0.0 in /usr/local/lib/python3.10/dist-packages (from bigframes) (2.2.1)\n",
            "Requirement already satisfied: fsspec>=2023.3.0 in /usr/local/lib/python3.10/dist-packages (from bigframes) (2023.6.0)\n",
            "Requirement already satisfied: gcsfs>=2023.3.0 in /usr/local/lib/python3.10/dist-packages (from bigframes) (2023.6.0)\n",
            "Requirement already satisfied: geopandas>=0.12.2 in /usr/local/lib/python3.10/dist-packages (from bigframes) (0.13.2)\n",
            "Requirement already satisfied: google-auth<3.0dev,>=2.15.0 in /usr/local/lib/python3.10/dist-packages (from bigframes) (2.27.0)\n",
            "Requirement already satisfied: google-cloud-bigquery[bqstorage,pandas]>=3.10.0 in /usr/local/lib/python3.10/dist-packages (from bigframes) (3.12.0)\n",
            "Requirement already satisfied: google-cloud-functions>=1.12.0 in /usr/local/lib/python3.10/dist-packages (from bigframes) (1.13.3)\n",
            "Requirement already satisfied: google-cloud-bigquery-connection>=1.12.0 in /usr/local/lib/python3.10/dist-packages (from bigframes) (1.12.1)\n",
            "Requirement already satisfied: google-cloud-iam>=2.12.1 in /usr/local/lib/python3.10/dist-packages (from bigframes) (2.14.3)\n",
            "Requirement already satisfied: google-cloud-resource-manager>=1.10.3 in /usr/local/lib/python3.10/dist-packages (from bigframes) (1.12.3)\n",
            "Requirement already satisfied: google-cloud-storage>=2.0.0 in /usr/local/lib/python3.10/dist-packages (from bigframes) (2.8.0)\n",
            "Requirement already satisfied: ibis-framework[bigquery]<9.0.0dev,>=8.0.0 in /usr/local/lib/python3.10/dist-packages (from bigframes) (8.0.0)\n",
            "Requirement already satisfied: pandas>=1.5.0 in /usr/local/lib/python3.10/dist-packages (from bigframes) (1.5.3)\n",
            "Requirement already satisfied: pyarrow>=8.0.0 in /usr/local/lib/python3.10/dist-packages (from bigframes) (14.0.2)\n",
            "Requirement already satisfied: pydata-google-auth>=1.8.2 in /usr/local/lib/python3.10/dist-packages (from bigframes) (1.8.2)\n",
            "Requirement already satisfied: requests>=2.27.1 in /usr/local/lib/python3.10/dist-packages (from bigframes) (2.31.0)\n",
            "Requirement already satisfied: scikit-learn>=1.2.2 in /usr/local/lib/python3.10/dist-packages (from bigframes) (1.2.2)\n",
            "Requirement already satisfied: sqlalchemy<3.0dev,>=1.4 in /usr/local/lib/python3.10/dist-packages (from bigframes) (2.0.29)\n",
            "Requirement already satisfied: sqlglot<=20.11,>=20.8.0 in /usr/local/lib/python3.10/dist-packages (from bigframes) (20.11.0)\n",
            "Requirement already satisfied: tabulate>=0.9 in /usr/local/lib/python3.10/dist-packages (from bigframes) (0.9.0)\n",
            "Requirement already satisfied: ipywidgets>=7.7.1 in /usr/local/lib/python3.10/dist-packages (from bigframes) (7.7.1)\n",
            "Requirement already satisfied: humanize>=4.6.0 in /usr/local/lib/python3.10/dist-packages (from bigframes) (4.7.0)\n",
            "Requirement already satisfied: matplotlib>=3.7.1 in /usr/local/lib/python3.10/dist-packages (from bigframes) (3.7.1)\n",
            "Requirement already satisfied: aiohttp!=4.0.0a0,!=4.0.0a1 in /usr/local/lib/python3.10/dist-packages (from gcsfs>=2023.3.0->bigframes) (3.9.3)\n",
            "Requirement already satisfied: decorator>4.1.2 in /usr/local/lib/python3.10/dist-packages (from gcsfs>=2023.3.0->bigframes) (4.4.2)\n",
            "Requirement already satisfied: google-auth-oauthlib in /usr/local/lib/python3.10/dist-packages (from gcsfs>=2023.3.0->bigframes) (1.2.0)\n",
            "Requirement already satisfied: fiona>=1.8.19 in /usr/local/lib/python3.10/dist-packages (from geopandas>=0.12.2->bigframes) (1.9.6)\n",
            "Requirement already satisfied: packaging in /usr/local/lib/python3.10/dist-packages (from geopandas>=0.12.2->bigframes) (24.0)\n",
            "Requirement already satisfied: pyproj>=3.0.1 in /usr/local/lib/python3.10/dist-packages (from geopandas>=0.12.2->bigframes) (3.6.1)\n",
            "Requirement already satisfied: shapely>=1.7.1 in /usr/local/lib/python3.10/dist-packages (from geopandas>=0.12.2->bigframes) (2.0.3)\n",
            "Requirement already satisfied: cachetools<6.0,>=2.0.0 in /usr/local/lib/python3.10/dist-packages (from google-auth<3.0dev,>=2.15.0->bigframes) (5.3.3)\n",
            "Requirement already satisfied: pyasn1-modules>=0.2.1 in /usr/local/lib/python3.10/dist-packages (from google-auth<3.0dev,>=2.15.0->bigframes) (0.3.0)\n",
            "Requirement already satisfied: rsa<5,>=3.1.4 in /usr/local/lib/python3.10/dist-packages (from google-auth<3.0dev,>=2.15.0->bigframes) (4.9)\n",
            "Requirement already satisfied: google-api-core[grpc]!=2.0.*,!=2.1.*,!=2.10.*,!=2.2.*,!=2.3.*,!=2.4.*,!=2.5.*,!=2.6.*,!=2.7.*,!=2.8.*,!=2.9.*,<3.0.0dev,>=1.34.0 in /usr/local/lib/python3.10/dist-packages (from google-cloud-bigquery-connection>=1.12.0->bigframes) (2.11.1)\n",
            "Requirement already satisfied: proto-plus<2.0.0dev,>=1.22.0 in /usr/local/lib/python3.10/dist-packages (from google-cloud-bigquery-connection>=1.12.0->bigframes) (1.23.0)\n",
            "Requirement already satisfied: protobuf!=3.20.0,!=3.20.1,!=4.21.0,!=4.21.1,!=4.21.2,!=4.21.3,!=4.21.4,!=4.21.5,<5.0.0dev,>=3.19.5 in /usr/local/lib/python3.10/dist-packages (from google-cloud-bigquery-connection>=1.12.0->bigframes) (3.20.3)\n",
            "Requirement already satisfied: grpc-google-iam-v1<1.0.0dev,>=0.12.4 in /usr/local/lib/python3.10/dist-packages (from google-cloud-bigquery-connection>=1.12.0->bigframes) (0.13.0)\n",
            "Requirement already satisfied: grpcio<2.0dev,>=1.47.0 in /usr/local/lib/python3.10/dist-packages (from google-cloud-bigquery[bqstorage,pandas]>=3.10.0->bigframes) (1.62.1)\n",
            "Requirement already satisfied: google-cloud-core<3.0.0dev,>=1.6.0 in /usr/local/lib/python3.10/dist-packages (from google-cloud-bigquery[bqstorage,pandas]>=3.10.0->bigframes) (2.3.3)\n",
            "Requirement already satisfied: google-resumable-media<3.0dev,>=0.6.0 in /usr/local/lib/python3.10/dist-packages (from google-cloud-bigquery[bqstorage,pandas]>=3.10.0->bigframes) (2.7.0)\n",
            "Requirement already satisfied: python-dateutil<3.0dev,>=2.7.2 in /usr/local/lib/python3.10/dist-packages (from google-cloud-bigquery[bqstorage,pandas]>=3.10.0->bigframes) (2.8.2)\n",
            "Requirement already satisfied: google-cloud-bigquery-storage<3.0.0dev,>=2.6.0 in /usr/local/lib/python3.10/dist-packages (from google-cloud-bigquery[bqstorage,pandas]>=3.10.0->bigframes) (2.24.0)\n",
            "Requirement already satisfied: db-dtypes<2.0.0dev,>=0.3.0 in /usr/local/lib/python3.10/dist-packages (from google-cloud-bigquery[bqstorage,pandas]>=3.10.0->bigframes) (1.2.0)\n",
            "Requirement already satisfied: atpublic<5,>=2.3 in /usr/local/lib/python3.10/dist-packages (from ibis-framework[bigquery]<9.0.0dev,>=8.0.0->bigframes) (4.0)\n",
            "Requirement already satisfied: bidict<1,>=0.22.1 in /usr/local/lib/python3.10/dist-packages (from ibis-framework[bigquery]<9.0.0dev,>=8.0.0->bigframes) (0.23.1)\n",
            "Requirement already satisfied: multipledispatch<2,>=0.6 in /usr/local/lib/python3.10/dist-packages (from ibis-framework[bigquery]<9.0.0dev,>=8.0.0->bigframes) (1.0.0)\n",
            "Requirement already satisfied: numpy<2,>=1 in /usr/local/lib/python3.10/dist-packages (from ibis-framework[bigquery]<9.0.0dev,>=8.0.0->bigframes) (1.25.2)\n",
            "Requirement already satisfied: parsy<3,>=2 in /usr/local/lib/python3.10/dist-packages (from ibis-framework[bigquery]<9.0.0dev,>=8.0.0->bigframes) (2.1)\n",
            "Requirement already satisfied: pyarrow-hotfix<1,>=0.4 in /usr/local/lib/python3.10/dist-packages (from ibis-framework[bigquery]<9.0.0dev,>=8.0.0->bigframes) (0.6)\n",
            "Requirement already satisfied: pytz>=2022.7 in /usr/local/lib/python3.10/dist-packages (from ibis-framework[bigquery]<9.0.0dev,>=8.0.0->bigframes) (2023.4)\n",
            "Requirement already satisfied: rich<14,>=12.4.4 in /usr/local/lib/python3.10/dist-packages (from ibis-framework[bigquery]<9.0.0dev,>=8.0.0->bigframes) (13.7.1)\n",
            "Requirement already satisfied: toolz<1,>=0.11 in /usr/local/lib/python3.10/dist-packages (from ibis-framework[bigquery]<9.0.0dev,>=8.0.0->bigframes) (0.12.1)\n",
            "Requirement already satisfied: typing-extensions<5,>=4.3.0 in /usr/local/lib/python3.10/dist-packages (from ibis-framework[bigquery]<9.0.0dev,>=8.0.0->bigframes) (4.10.0)\n",
            "Requirement already satisfied: ipykernel>=4.5.1 in /usr/local/lib/python3.10/dist-packages (from ipywidgets>=7.7.1->bigframes) (5.5.6)\n",
            "Requirement already satisfied: ipython-genutils~=0.2.0 in /usr/local/lib/python3.10/dist-packages (from ipywidgets>=7.7.1->bigframes) (0.2.0)\n",
            "Requirement already satisfied: traitlets>=4.3.1 in /usr/local/lib/python3.10/dist-packages (from ipywidgets>=7.7.1->bigframes) (5.7.1)\n",
            "Requirement already satisfied: widgetsnbextension~=3.6.0 in /usr/local/lib/python3.10/dist-packages (from ipywidgets>=7.7.1->bigframes) (3.6.6)\n",
            "Requirement already satisfied: ipython>=4.0.0 in /usr/local/lib/python3.10/dist-packages (from ipywidgets>=7.7.1->bigframes) (7.34.0)\n",
            "Requirement already satisfied: jupyterlab-widgets>=1.0.0 in /usr/local/lib/python3.10/dist-packages (from ipywidgets>=7.7.1->bigframes) (3.0.10)\n",
            "Requirement already satisfied: contourpy>=1.0.1 in /usr/local/lib/python3.10/dist-packages (from matplotlib>=3.7.1->bigframes) (1.2.0)\n",
            "Requirement already satisfied: cycler>=0.10 in /usr/local/lib/python3.10/dist-packages (from matplotlib>=3.7.1->bigframes) (0.12.1)\n",
            "Requirement already satisfied: fonttools>=4.22.0 in /usr/local/lib/python3.10/dist-packages (from matplotlib>=3.7.1->bigframes) (4.50.0)\n",
            "Requirement already satisfied: kiwisolver>=1.0.1 in /usr/local/lib/python3.10/dist-packages (from matplotlib>=3.7.1->bigframes) (1.4.5)\n",
            "Requirement already satisfied: pillow>=6.2.0 in /usr/local/lib/python3.10/dist-packages (from matplotlib>=3.7.1->bigframes) (9.4.0)\n",
            "Requirement already satisfied: pyparsing>=2.3.1 in /usr/local/lib/python3.10/dist-packages (from matplotlib>=3.7.1->bigframes) (3.1.2)\n",
            "Requirement already satisfied: setuptools in /usr/local/lib/python3.10/dist-packages (from pydata-google-auth>=1.8.2->bigframes) (67.7.2)\n",
            "Requirement already satisfied: charset-normalizer<4,>=2 in /usr/local/lib/python3.10/dist-packages (from requests>=2.27.1->bigframes) (3.3.2)\n",
            "Requirement already satisfied: idna<4,>=2.5 in /usr/local/lib/python3.10/dist-packages (from requests>=2.27.1->bigframes) (3.6)\n",
            "Requirement already satisfied: urllib3<3,>=1.21.1 in /usr/local/lib/python3.10/dist-packages (from requests>=2.27.1->bigframes) (2.0.7)\n",
            "Requirement already satisfied: certifi>=2017.4.17 in /usr/local/lib/python3.10/dist-packages (from requests>=2.27.1->bigframes) (2024.2.2)\n",
            "Requirement already satisfied: scipy>=1.3.2 in /usr/local/lib/python3.10/dist-packages (from scikit-learn>=1.2.2->bigframes) (1.11.4)\n",
            "Requirement already satisfied: joblib>=1.1.1 in /usr/local/lib/python3.10/dist-packages (from scikit-learn>=1.2.2->bigframes) (1.3.2)\n",
            "Requirement already satisfied: threadpoolctl>=2.0.0 in /usr/local/lib/python3.10/dist-packages (from scikit-learn>=1.2.2->bigframes) (3.4.0)\n",
            "Requirement already satisfied: greenlet!=0.4.17 in /usr/local/lib/python3.10/dist-packages (from sqlalchemy<3.0dev,>=1.4->bigframes) (3.0.3)\n",
            "Requirement already satisfied: aiosignal>=1.1.2 in /usr/local/lib/python3.10/dist-packages (from aiohttp!=4.0.0a0,!=4.0.0a1->gcsfs>=2023.3.0->bigframes) (1.3.1)\n",
            "Requirement already satisfied: attrs>=17.3.0 in /usr/local/lib/python3.10/dist-packages (from aiohttp!=4.0.0a0,!=4.0.0a1->gcsfs>=2023.3.0->bigframes) (23.2.0)\n",
            "Requirement already satisfied: frozenlist>=1.1.1 in /usr/local/lib/python3.10/dist-packages (from aiohttp!=4.0.0a0,!=4.0.0a1->gcsfs>=2023.3.0->bigframes) (1.4.1)\n",
            "Requirement already satisfied: multidict<7.0,>=4.5 in /usr/local/lib/python3.10/dist-packages (from aiohttp!=4.0.0a0,!=4.0.0a1->gcsfs>=2023.3.0->bigframes) (6.0.5)\n",
            "Requirement already satisfied: yarl<2.0,>=1.0 in /usr/local/lib/python3.10/dist-packages (from aiohttp!=4.0.0a0,!=4.0.0a1->gcsfs>=2023.3.0->bigframes) (1.9.4)\n",
            "Requirement already satisfied: async-timeout<5.0,>=4.0 in /usr/local/lib/python3.10/dist-packages (from aiohttp!=4.0.0a0,!=4.0.0a1->gcsfs>=2023.3.0->bigframes) (4.0.3)\n",
            "Requirement already satisfied: click~=8.0 in /usr/local/lib/python3.10/dist-packages (from fiona>=1.8.19->geopandas>=0.12.2->bigframes) (8.1.7)\n",
            "Requirement already satisfied: click-plugins>=1.0 in /usr/local/lib/python3.10/dist-packages (from fiona>=1.8.19->geopandas>=0.12.2->bigframes) (1.1.1)\n",
            "Requirement already satisfied: cligj>=0.5 in /usr/local/lib/python3.10/dist-packages (from fiona>=1.8.19->geopandas>=0.12.2->bigframes) (0.7.2)\n",
            "Requirement already satisfied: six in /usr/local/lib/python3.10/dist-packages (from fiona>=1.8.19->geopandas>=0.12.2->bigframes) (1.16.0)\n",
            "Requirement already satisfied: googleapis-common-protos<2.0.dev0,>=1.56.2 in /usr/local/lib/python3.10/dist-packages (from google-api-core[grpc]!=2.0.*,!=2.1.*,!=2.10.*,!=2.2.*,!=2.3.*,!=2.4.*,!=2.5.*,!=2.6.*,!=2.7.*,!=2.8.*,!=2.9.*,<3.0.0dev,>=1.34.0->google-cloud-bigquery-connection>=1.12.0->bigframes) (1.63.0)\n",
            "Requirement already satisfied: grpcio-status<2.0.dev0,>=1.33.2 in /usr/local/lib/python3.10/dist-packages (from google-api-core[grpc]!=2.0.*,!=2.1.*,!=2.10.*,!=2.2.*,!=2.3.*,!=2.4.*,!=2.5.*,!=2.6.*,!=2.7.*,!=2.8.*,!=2.9.*,<3.0.0dev,>=1.34.0->google-cloud-bigquery-connection>=1.12.0->bigframes) (1.48.2)\n",
            "Requirement already satisfied: requests-oauthlib>=0.7.0 in /usr/local/lib/python3.10/dist-packages (from google-auth-oauthlib->gcsfs>=2023.3.0->bigframes) (1.4.0)\n",
            "Requirement already satisfied: google-crc32c<2.0dev,>=1.0 in /usr/local/lib/python3.10/dist-packages (from google-resumable-media<3.0dev,>=0.6.0->google-cloud-bigquery[bqstorage,pandas]>=3.10.0->bigframes) (1.5.0)\n",
            "Requirement already satisfied: jupyter-client in /usr/local/lib/python3.10/dist-packages (from ipykernel>=4.5.1->ipywidgets>=7.7.1->bigframes) (6.1.12)\n",
            "Requirement already satisfied: tornado>=4.2 in /usr/local/lib/python3.10/dist-packages (from ipykernel>=4.5.1->ipywidgets>=7.7.1->bigframes) (6.3.3)\n",
            "Collecting jedi>=0.16 (from ipython>=4.0.0->ipywidgets>=7.7.1->bigframes)\n",
            "  Downloading jedi-0.19.1-py2.py3-none-any.whl (1.6 MB)\n",
            "\u001b[2K     \u001b[90m━━━━━━━━━━━━━━━━━━━━━━━━━━━━━━━━━━━━━━━━\u001b[0m \u001b[32m1.6/1.6 MB\u001b[0m \u001b[31m17.1 MB/s\u001b[0m eta \u001b[36m0:00:00\u001b[0m\n",
            "\u001b[?25hRequirement already satisfied: pickleshare in /usr/local/lib/python3.10/dist-packages (from ipython>=4.0.0->ipywidgets>=7.7.1->bigframes) (0.7.5)\n",
            "Requirement already satisfied: prompt-toolkit!=3.0.0,!=3.0.1,<3.1.0,>=2.0.0 in /usr/local/lib/python3.10/dist-packages (from ipython>=4.0.0->ipywidgets>=7.7.1->bigframes) (3.0.43)\n",
            "Requirement already satisfied: pygments in /usr/local/lib/python3.10/dist-packages (from ipython>=4.0.0->ipywidgets>=7.7.1->bigframes) (2.16.1)\n",
            "Requirement already satisfied: backcall in /usr/local/lib/python3.10/dist-packages (from ipython>=4.0.0->ipywidgets>=7.7.1->bigframes) (0.2.0)\n",
            "Requirement already satisfied: matplotlib-inline in /usr/local/lib/python3.10/dist-packages (from ipython>=4.0.0->ipywidgets>=7.7.1->bigframes) (0.1.6)\n",
            "Requirement already satisfied: pexpect>4.3 in /usr/local/lib/python3.10/dist-packages (from ipython>=4.0.0->ipywidgets>=7.7.1->bigframes) (4.9.0)\n",
            "Requirement already satisfied: pyasn1<0.6.0,>=0.4.6 in /usr/local/lib/python3.10/dist-packages (from pyasn1-modules>=0.2.1->google-auth<3.0dev,>=2.15.0->bigframes) (0.5.1)\n",
            "Requirement already satisfied: markdown-it-py>=2.2.0 in /usr/local/lib/python3.10/dist-packages (from rich<14,>=12.4.4->ibis-framework[bigquery]<9.0.0dev,>=8.0.0->bigframes) (3.0.0)\n",
            "Requirement already satisfied: notebook>=4.4.1 in /usr/local/lib/python3.10/dist-packages (from widgetsnbextension~=3.6.0->ipywidgets>=7.7.1->bigframes) (6.5.5)\n",
            "Requirement already satisfied: parso<0.9.0,>=0.8.3 in /usr/local/lib/python3.10/dist-packages (from jedi>=0.16->ipython>=4.0.0->ipywidgets>=7.7.1->bigframes) (0.8.3)\n",
            "Requirement already satisfied: mdurl~=0.1 in /usr/local/lib/python3.10/dist-packages (from markdown-it-py>=2.2.0->rich<14,>=12.4.4->ibis-framework[bigquery]<9.0.0dev,>=8.0.0->bigframes) (0.1.2)\n",
            "Requirement already satisfied: jinja2 in /usr/local/lib/python3.10/dist-packages (from notebook>=4.4.1->widgetsnbextension~=3.6.0->ipywidgets>=7.7.1->bigframes) (3.1.3)\n",
            "Requirement already satisfied: pyzmq<25,>=17 in /usr/local/lib/python3.10/dist-packages (from notebook>=4.4.1->widgetsnbextension~=3.6.0->ipywidgets>=7.7.1->bigframes) (23.2.1)\n",
            "Requirement already satisfied: argon2-cffi in /usr/local/lib/python3.10/dist-packages (from notebook>=4.4.1->widgetsnbextension~=3.6.0->ipywidgets>=7.7.1->bigframes) (23.1.0)\n",
            "Requirement already satisfied: jupyter-core>=4.6.1 in /usr/local/lib/python3.10/dist-packages (from notebook>=4.4.1->widgetsnbextension~=3.6.0->ipywidgets>=7.7.1->bigframes) (5.7.2)\n",
            "Requirement already satisfied: nbformat in /usr/local/lib/python3.10/dist-packages (from notebook>=4.4.1->widgetsnbextension~=3.6.0->ipywidgets>=7.7.1->bigframes) (5.10.3)\n",
            "Requirement already satisfied: nbconvert>=5 in /usr/local/lib/python3.10/dist-packages (from notebook>=4.4.1->widgetsnbextension~=3.6.0->ipywidgets>=7.7.1->bigframes) (6.5.4)\n",
            "Requirement already satisfied: nest-asyncio>=1.5 in /usr/local/lib/python3.10/dist-packages (from notebook>=4.4.1->widgetsnbextension~=3.6.0->ipywidgets>=7.7.1->bigframes) (1.6.0)\n",
            "Requirement already satisfied: Send2Trash>=1.8.0 in /usr/local/lib/python3.10/dist-packages (from notebook>=4.4.1->widgetsnbextension~=3.6.0->ipywidgets>=7.7.1->bigframes) (1.8.2)\n",
            "Requirement already satisfied: terminado>=0.8.3 in /usr/local/lib/python3.10/dist-packages (from notebook>=4.4.1->widgetsnbextension~=3.6.0->ipywidgets>=7.7.1->bigframes) (0.18.1)\n",
            "Requirement already satisfied: prometheus-client in /usr/local/lib/python3.10/dist-packages (from notebook>=4.4.1->widgetsnbextension~=3.6.0->ipywidgets>=7.7.1->bigframes) (0.20.0)\n",
            "Requirement already satisfied: nbclassic>=0.4.7 in /usr/local/lib/python3.10/dist-packages (from notebook>=4.4.1->widgetsnbextension~=3.6.0->ipywidgets>=7.7.1->bigframes) (1.0.0)\n",
            "Requirement already satisfied: ptyprocess>=0.5 in /usr/local/lib/python3.10/dist-packages (from pexpect>4.3->ipython>=4.0.0->ipywidgets>=7.7.1->bigframes) (0.7.0)\n",
            "Requirement already satisfied: wcwidth in /usr/local/lib/python3.10/dist-packages (from prompt-toolkit!=3.0.0,!=3.0.1,<3.1.0,>=2.0.0->ipython>=4.0.0->ipywidgets>=7.7.1->bigframes) (0.2.13)\n",
            "Requirement already satisfied: oauthlib>=3.0.0 in /usr/local/lib/python3.10/dist-packages (from requests-oauthlib>=0.7.0->google-auth-oauthlib->gcsfs>=2023.3.0->bigframes) (3.2.2)\n",
            "Requirement already satisfied: platformdirs>=2.5 in /usr/local/lib/python3.10/dist-packages (from jupyter-core>=4.6.1->notebook>=4.4.1->widgetsnbextension~=3.6.0->ipywidgets>=7.7.1->bigframes) (4.2.0)\n",
            "Requirement already satisfied: jupyter-server>=1.8 in /usr/local/lib/python3.10/dist-packages (from nbclassic>=0.4.7->notebook>=4.4.1->widgetsnbextension~=3.6.0->ipywidgets>=7.7.1->bigframes) (1.24.0)\n",
            "Requirement already satisfied: notebook-shim>=0.2.3 in /usr/local/lib/python3.10/dist-packages (from nbclassic>=0.4.7->notebook>=4.4.1->widgetsnbextension~=3.6.0->ipywidgets>=7.7.1->bigframes) (0.2.4)\n",
            "Requirement already satisfied: lxml in /usr/local/lib/python3.10/dist-packages (from nbconvert>=5->notebook>=4.4.1->widgetsnbextension~=3.6.0->ipywidgets>=7.7.1->bigframes) (4.9.4)\n",
            "Requirement already satisfied: beautifulsoup4 in /usr/local/lib/python3.10/dist-packages (from nbconvert>=5->notebook>=4.4.1->widgetsnbextension~=3.6.0->ipywidgets>=7.7.1->bigframes) (4.12.3)\n",
            "Requirement already satisfied: bleach in /usr/local/lib/python3.10/dist-packages (from nbconvert>=5->notebook>=4.4.1->widgetsnbextension~=3.6.0->ipywidgets>=7.7.1->bigframes) (6.1.0)\n",
            "Requirement already satisfied: defusedxml in /usr/local/lib/python3.10/dist-packages (from nbconvert>=5->notebook>=4.4.1->widgetsnbextension~=3.6.0->ipywidgets>=7.7.1->bigframes) (0.7.1)\n",
            "Requirement already satisfied: entrypoints>=0.2.2 in /usr/local/lib/python3.10/dist-packages (from nbconvert>=5->notebook>=4.4.1->widgetsnbextension~=3.6.0->ipywidgets>=7.7.1->bigframes) (0.4)\n",
            "Requirement already satisfied: jupyterlab-pygments in /usr/local/lib/python3.10/dist-packages (from nbconvert>=5->notebook>=4.4.1->widgetsnbextension~=3.6.0->ipywidgets>=7.7.1->bigframes) (0.3.0)\n",
            "Requirement already satisfied: MarkupSafe>=2.0 in /usr/local/lib/python3.10/dist-packages (from nbconvert>=5->notebook>=4.4.1->widgetsnbextension~=3.6.0->ipywidgets>=7.7.1->bigframes) (2.1.5)\n",
            "Requirement already satisfied: mistune<2,>=0.8.1 in /usr/local/lib/python3.10/dist-packages (from nbconvert>=5->notebook>=4.4.1->widgetsnbextension~=3.6.0->ipywidgets>=7.7.1->bigframes) (0.8.4)\n",
            "Requirement already satisfied: nbclient>=0.5.0 in /usr/local/lib/python3.10/dist-packages (from nbconvert>=5->notebook>=4.4.1->widgetsnbextension~=3.6.0->ipywidgets>=7.7.1->bigframes) (0.10.0)\n",
            "Requirement already satisfied: pandocfilters>=1.4.1 in /usr/local/lib/python3.10/dist-packages (from nbconvert>=5->notebook>=4.4.1->widgetsnbextension~=3.6.0->ipywidgets>=7.7.1->bigframes) (1.5.1)\n",
            "Requirement already satisfied: tinycss2 in /usr/local/lib/python3.10/dist-packages (from nbconvert>=5->notebook>=4.4.1->widgetsnbextension~=3.6.0->ipywidgets>=7.7.1->bigframes) (1.2.1)\n",
            "Requirement already satisfied: fastjsonschema in /usr/local/lib/python3.10/dist-packages (from nbformat->notebook>=4.4.1->widgetsnbextension~=3.6.0->ipywidgets>=7.7.1->bigframes) (2.19.1)\n",
            "Requirement already satisfied: jsonschema>=2.6 in /usr/local/lib/python3.10/dist-packages (from nbformat->notebook>=4.4.1->widgetsnbextension~=3.6.0->ipywidgets>=7.7.1->bigframes) (4.19.2)\n",
            "Requirement already satisfied: argon2-cffi-bindings in /usr/local/lib/python3.10/dist-packages (from argon2-cffi->notebook>=4.4.1->widgetsnbextension~=3.6.0->ipywidgets>=7.7.1->bigframes) (21.2.0)\n",
            "Requirement already satisfied: jsonschema-specifications>=2023.03.6 in /usr/local/lib/python3.10/dist-packages (from jsonschema>=2.6->nbformat->notebook>=4.4.1->widgetsnbextension~=3.6.0->ipywidgets>=7.7.1->bigframes) (2023.12.1)\n",
            "Requirement already satisfied: referencing>=0.28.4 in /usr/local/lib/python3.10/dist-packages (from jsonschema>=2.6->nbformat->notebook>=4.4.1->widgetsnbextension~=3.6.0->ipywidgets>=7.7.1->bigframes) (0.34.0)\n",
            "Requirement already satisfied: rpds-py>=0.7.1 in /usr/local/lib/python3.10/dist-packages (from jsonschema>=2.6->nbformat->notebook>=4.4.1->widgetsnbextension~=3.6.0->ipywidgets>=7.7.1->bigframes) (0.18.0)\n",
            "Requirement already satisfied: anyio<4,>=3.1.0 in /usr/local/lib/python3.10/dist-packages (from jupyter-server>=1.8->nbclassic>=0.4.7->notebook>=4.4.1->widgetsnbextension~=3.6.0->ipywidgets>=7.7.1->bigframes) (3.7.1)\n",
            "Requirement already satisfied: websocket-client in /usr/local/lib/python3.10/dist-packages (from jupyter-server>=1.8->nbclassic>=0.4.7->notebook>=4.4.1->widgetsnbextension~=3.6.0->ipywidgets>=7.7.1->bigframes) (1.7.0)\n",
            "Requirement already satisfied: cffi>=1.0.1 in /usr/local/lib/python3.10/dist-packages (from argon2-cffi-bindings->argon2-cffi->notebook>=4.4.1->widgetsnbextension~=3.6.0->ipywidgets>=7.7.1->bigframes) (1.16.0)\n",
            "Requirement already satisfied: soupsieve>1.2 in /usr/local/lib/python3.10/dist-packages (from beautifulsoup4->nbconvert>=5->notebook>=4.4.1->widgetsnbextension~=3.6.0->ipywidgets>=7.7.1->bigframes) (2.5)\n",
            "Requirement already satisfied: webencodings in /usr/local/lib/python3.10/dist-packages (from bleach->nbconvert>=5->notebook>=4.4.1->widgetsnbextension~=3.6.0->ipywidgets>=7.7.1->bigframes) (0.5.1)\n",
            "Requirement already satisfied: sniffio>=1.1 in /usr/local/lib/python3.10/dist-packages (from anyio<4,>=3.1.0->jupyter-server>=1.8->nbclassic>=0.4.7->notebook>=4.4.1->widgetsnbextension~=3.6.0->ipywidgets>=7.7.1->bigframes) (1.3.1)\n",
            "Requirement already satisfied: exceptiongroup in /usr/local/lib/python3.10/dist-packages (from anyio<4,>=3.1.0->jupyter-server>=1.8->nbclassic>=0.4.7->notebook>=4.4.1->widgetsnbextension~=3.6.0->ipywidgets>=7.7.1->bigframes) (1.2.0)\n",
            "Requirement already satisfied: pycparser in /usr/local/lib/python3.10/dist-packages (from cffi>=1.0.1->argon2-cffi-bindings->argon2-cffi->notebook>=4.4.1->widgetsnbextension~=3.6.0->ipywidgets>=7.7.1->bigframes) (2.21)\n",
            "Installing collected packages: jedi, bigframes\n",
            "  Attempting uninstall: bigframes\n",
            "    Found existing installation: bigframes 1.0.0\n",
            "    Uninstalling bigframes-1.0.0:\n",
            "      Successfully uninstalled bigframes-1.0.0\n",
            "Successfully installed bigframes-1.2.0 jedi-0.19.1\n"
          ]
        }
      ]
    },
    {
      "cell_type": "code",
      "source": [
        "#@title Setup Project Variables { run: \"auto\", display-mode: \"form\" }\n",
        "PROJECT_ID = \"direct-outlet-420617\" #@param {type:\"string\"}\n",
        "DATASET_NAME = \"Electric_Vehicle_population\" #@param {type:\"string\"}\n",
        "MODEL_NAME = \"bqdf_vehicle_segment_cluster\" #@param {type:\"string\"}\n",
        "EVAL_NAME = MODEL_NAME + \"_eval\"\n",
        "LOCATION = \"US\"  # @param {type:\"string\"}\n",
        "from google.cloud import bigquery\n",
        "client = bigquery.Client()"
      ],
      "metadata": {
        "id": "HYIetm3UgNca",
        "executionInfo": {
          "status": "ok",
          "timestamp": 1713382123354,
          "user_tz": -330,
          "elapsed": 4,
          "user": {
            "displayName": "",
            "userId": ""
          }
        }
      },
      "id": "HYIetm3UgNca",
      "execution_count": 29,
      "outputs": []
    },
    {
      "cell_type": "code",
      "source": [
        "dataset = client.create_dataset(DATASET_NAME, timeout=30)  # Make an API request.\n",
        "print(\"Created dataset {}.{}\".format(client.project, dataset.dataset_id))"
      ],
      "metadata": {
        "colab": {
          "base_uri": "https://localhost:8080/"
        },
        "id": "UhKRqs2Kgmzl",
        "executionInfo": {
          "status": "ok",
          "timestamp": 1713382123354,
          "user_tz": -330,
          "elapsed": 4,
          "user": {
            "displayName": "",
            "userId": ""
          }
        },
        "outputId": "a6ab4b51-d882-473f-eb07-c8f5ba7b9fe8"
      },
      "id": "UhKRqs2Kgmzl",
      "execution_count": 30,
      "outputs": [
        {
          "output_type": "stream",
          "name": "stdout",
          "text": [
            "Created dataset direct-outlet-420617.Electric_Vehicle_population\n"
          ]
        }
      ]
    },
    {
      "cell_type": "code",
      "source": [
        "#data exploration\n",
        "import bigframes as bf\n",
        "import bigframes.pandas as bpd"
      ],
      "metadata": {
        "id": "dfgSq91hgwgQ",
        "executionInfo": {
          "status": "ok",
          "timestamp": 1713382124041,
          "user_tz": -330,
          "elapsed": 2,
          "user": {
            "displayName": "",
            "userId": ""
          }
        }
      },
      "id": "dfgSq91hgwgQ",
      "execution_count": 31,
      "outputs": []
    },
    {
      "cell_type": "code",
      "source": [
        "bf.options.bigquery.project = PROJECT_ID\n",
        "bf.options.bigquery.location = LOCATION"
      ],
      "metadata": {
        "id": "65ne4wjpg0-x",
        "executionInfo": {
          "status": "ok",
          "timestamp": 1713382126058,
          "user_tz": -330,
          "elapsed": 4,
          "user": {
            "displayName": "",
            "userId": ""
          }
        }
      },
      "id": "65ne4wjpg0-x",
      "execution_count": 32,
      "outputs": []
    },
    {
      "cell_type": "code",
      "source": [
        "query = f\"\"\"\n",
        "SELECT *\n",
        "FROM `{PROJECT_ID}.{DATASET_NAME}.{'Electric_vehicle'}`\n",
        "\"\"\"\n",
        "\n",
        "# Execute the query and fetch results\n",
        "query_job = client.query(query)  # Make an API request\n",
        "results = query_job.result()  # Wait for job to complete and get results\n",
        "\n",
        "# Load results into a Pandas DataFrame\n",
        "data = [dict(row) for row in results]  # Convert row results to dictionaries\n",
        "df = bpd.DataFrame(data)  # Create DataFrame from list of dictionaries"
      ],
      "metadata": {
        "colab": {
          "base_uri": "https://localhost:8080/",
          "height": 832
        },
        "id": "xdArk0U1hE-f",
        "executionInfo": {
          "status": "ok",
          "timestamp": 1713382537330,
          "user_tz": -330,
          "elapsed": 58197,
          "user": {
            "displayName": "",
            "userId": ""
          }
        },
        "outputId": "b2be57e5-4f78-4df5-9f3d-31937c032971"
      },
      "id": "xdArk0U1hE-f",
      "execution_count": 35,
      "outputs": [
        {
          "output_type": "display_data",
          "data": {
            "text/plain": [
              "<IPython.core.display.HTML object>"
            ],
            "text/html": [
              "Load job d5deb41c-947a-44a2-95bc-6bcfd240e4eb is DONE. <a target=\"_blank\" href=\"https://console.cloud.google.com/bigquery?project=direct-outlet-420617&j=bq:US:d5deb41c-947a-44a2-95bc-6bcfd240e4eb&page=queryresults\">Open Job</a>"
            ]
          },
          "metadata": {}
        },
        {
          "output_type": "display_data",
          "data": {
            "text/plain": [
              "<IPython.core.display.HTML object>"
            ],
            "text/html": [
              "Query job 645b580b-6231-4ad4-98b3-245676bfc874 is DONE. 50.5 MB processed. <a target=\"_blank\" href=\"https://console.cloud.google.com/bigquery?project=direct-outlet-420617&j=bq:US:645b580b-6231-4ad4-98b3-245676bfc874&page=queryresults\">Open Job</a>"
            ]
          },
          "metadata": {}
        },
        {
          "output_type": "display_data",
          "data": {
            "text/plain": [
              "<IPython.core.display.HTML object>"
            ],
            "text/html": [
              "Query job 9b88ddda-7e63-40ef-8c16-40cb110ee35b is DONE. 0 Bytes processed. <a target=\"_blank\" href=\"https://console.cloud.google.com/bigquery?project=direct-outlet-420617&j=bq:US:9b88ddda-7e63-40ef-8c16-40cb110ee35b&page=queryresults\">Open Job</a>"
            ]
          },
          "metadata": {}
        },
        {
          "output_type": "display_data",
          "data": {
            "text/plain": [
              "<IPython.core.display.HTML object>"
            ],
            "text/html": [
              "Query job d55b4319-7355-462a-a936-7dcf4dcddb3d is DONE. 1.3 kB processed. <a target=\"_blank\" href=\"https://console.cloud.google.com/bigquery?project=direct-outlet-420617&j=bq:US:d55b4319-7355-462a-a936-7dcf4dcddb3d&page=queryresults\">Open Job</a>"
            ]
          },
          "metadata": {}
        },
        {
          "output_type": "stream",
          "name": "stdout",
          "text": [
            "   VIN__1_10_   County     City State  Postal_Code  Model_Year    Make  \\\n",
            "0  3FA6P0SU2E  Spokane  Spokane    WA      99207.0        2014    FORD   \n",
            "1  JTDKN3DP5F  Spokane  Spokane    WA      99207.0        2015  TOYOTA   \n",
            "2  JTDKARFP1H  Spokane  Spokane    WA      99207.0        2017  TOYOTA   \n",
            "3  3FA6P0PU4D  Spokane  Spokane    WA      99207.0        2013    FORD   \n",
            "4  1C4JJXR60N  Spokane  Spokane    WA      99207.0        2022    JEEP   \n",
            "\n",
            "           Model                   Electric_Vehicle_Type  \\\n",
            "0         FUSION  Plug-in Hybrid Electric Vehicle (PHEV)   \n",
            "1  PRIUS PLUG-IN  Plug-in Hybrid Electric Vehicle (PHEV)   \n",
            "2    PRIUS PRIME  Plug-in Hybrid Electric Vehicle (PHEV)   \n",
            "3         FUSION  Plug-in Hybrid Electric Vehicle (PHEV)   \n",
            "4       WRANGLER  Plug-in Hybrid Electric Vehicle (PHEV)   \n",
            "\n",
            "  Clean_Alternative_Fuel_Vehicle__CAFV__Eligibility  Electric_Range  \\\n",
            "0             Not eligible due to low battery range              19   \n",
            "1             Not eligible due to low battery range               6   \n",
            "2             Not eligible due to low battery range              25   \n",
            "3             Not eligible due to low battery range              19   \n",
            "4             Not eligible due to low battery range              22   \n",
            "\n",
            "   Base_MSRP  Legislative_District  DOL_Vehicle_ID  \\\n",
            "0          0                   3.0       196204053   \n",
            "1          0                   3.0       257412284   \n",
            "2          0                   3.0       181736264   \n",
            "3          0                   3.0       175243848   \n",
            "4          0                   3.0       204662489   \n",
            "\n",
            "              Vehicle_Location               Electric_Utility  \\\n",
            "0  POINT (-117.39787 47.67936)  MODERN ELECTRIC WATER COMPANY   \n",
            "1  POINT (-117.39787 47.67936)  MODERN ELECTRIC WATER COMPANY   \n",
            "2  POINT (-117.39787 47.67936)  MODERN ELECTRIC WATER COMPANY   \n",
            "3  POINT (-117.39787 47.67936)  MODERN ELECTRIC WATER COMPANY   \n",
            "4  POINT (-117.39787 47.67936)  MODERN ELECTRIC WATER COMPANY   \n",
            "\n",
            "   _2020_Census_Tract  \n",
            "0       53063001600.0  \n",
            "1       53063001600.0  \n",
            "2       53063001600.0  \n",
            "3       53063001600.0  \n",
            "4       53063001600.0  \n",
            "\n",
            "[5 rows x 17 columns]\n"
          ]
        }
      ]
    },
    {
      "cell_type": "code",
      "source": [
        "# Print the first few rows of the DataFrame (optional)\n",
        "df.head()"
      ],
      "metadata": {
        "colab": {
          "base_uri": "https://localhost:8080/",
          "height": 498
        },
        "id": "uxaJFWU4j0bG",
        "executionInfo": {
          "status": "ok",
          "timestamp": 1713382584491,
          "user_tz": -330,
          "elapsed": 7399,
          "user": {
            "displayName": "",
            "userId": ""
          }
        },
        "outputId": "fbf6034f-014c-4b89-fcc3-d2ee6197c0b1"
      },
      "id": "uxaJFWU4j0bG",
      "execution_count": 37,
      "outputs": [
        {
          "output_type": "display_data",
          "data": {
            "text/plain": [
              "<IPython.core.display.HTML object>"
            ],
            "text/html": [
              "Query job 023ad326-4fcd-427d-9ae9-4c2156d68722 is DONE. 50.5 MB processed. <a target=\"_blank\" href=\"https://console.cloud.google.com/bigquery?project=direct-outlet-420617&j=bq:US:023ad326-4fcd-427d-9ae9-4c2156d68722&page=queryresults\">Open Job</a>"
            ]
          },
          "metadata": {}
        },
        {
          "output_type": "display_data",
          "data": {
            "text/plain": [
              "<IPython.core.display.HTML object>"
            ],
            "text/html": [
              "Query job bed1597b-0709-4a85-bfd9-6f24b1dd9c5d is DONE. 0 Bytes processed. <a target=\"_blank\" href=\"https://console.cloud.google.com/bigquery?project=direct-outlet-420617&j=bq:US:bed1597b-0709-4a85-bfd9-6f24b1dd9c5d&page=queryresults\">Open Job</a>"
            ]
          },
          "metadata": {}
        },
        {
          "output_type": "display_data",
          "data": {
            "text/plain": [
              "<IPython.core.display.HTML object>"
            ],
            "text/html": [
              "Query job fe7d70ee-058c-40e6-b1c0-c60504043a47 is DONE. 1.3 kB processed. <a target=\"_blank\" href=\"https://console.cloud.google.com/bigquery?project=direct-outlet-420617&j=bq:US:fe7d70ee-058c-40e6-b1c0-c60504043a47&page=queryresults\">Open Job</a>"
            ]
          },
          "metadata": {}
        },
        {
          "output_type": "execute_result",
          "data": {
            "text/plain": [
              "   VIN__1_10_   County     City State  Postal_Code  Model_Year    Make  \\\n",
              "0  3FA6P0SU2E  Spokane  Spokane    WA      99207.0        2014    FORD   \n",
              "1  JTDKN3DP5F  Spokane  Spokane    WA      99207.0        2015  TOYOTA   \n",
              "2  JTDKARFP1H  Spokane  Spokane    WA      99207.0        2017  TOYOTA   \n",
              "3  3FA6P0PU4D  Spokane  Spokane    WA      99207.0        2013    FORD   \n",
              "4  1C4JJXR60N  Spokane  Spokane    WA      99207.0        2022    JEEP   \n",
              "\n",
              "           Model                   Electric_Vehicle_Type  \\\n",
              "0         FUSION  Plug-in Hybrid Electric Vehicle (PHEV)   \n",
              "1  PRIUS PLUG-IN  Plug-in Hybrid Electric Vehicle (PHEV)   \n",
              "2    PRIUS PRIME  Plug-in Hybrid Electric Vehicle (PHEV)   \n",
              "3         FUSION  Plug-in Hybrid Electric Vehicle (PHEV)   \n",
              "4       WRANGLER  Plug-in Hybrid Electric Vehicle (PHEV)   \n",
              "\n",
              "  Clean_Alternative_Fuel_Vehicle__CAFV__Eligibility  Electric_Range  \\\n",
              "0             Not eligible due to low battery range              19   \n",
              "1             Not eligible due to low battery range               6   \n",
              "2             Not eligible due to low battery range              25   \n",
              "3             Not eligible due to low battery range              19   \n",
              "4             Not eligible due to low battery range              22   \n",
              "\n",
              "   Base_MSRP  Legislative_District  DOL_Vehicle_ID  \\\n",
              "0          0                   3.0       196204053   \n",
              "1          0                   3.0       257412284   \n",
              "2          0                   3.0       181736264   \n",
              "3          0                   3.0       175243848   \n",
              "4          0                   3.0       204662489   \n",
              "\n",
              "              Vehicle_Location               Electric_Utility  \\\n",
              "0  POINT (-117.39787 47.67936)  MODERN ELECTRIC WATER COMPANY   \n",
              "1  POINT (-117.39787 47.67936)  MODERN ELECTRIC WATER COMPANY   \n",
              "2  POINT (-117.39787 47.67936)  MODERN ELECTRIC WATER COMPANY   \n",
              "3  POINT (-117.39787 47.67936)  MODERN ELECTRIC WATER COMPANY   \n",
              "4  POINT (-117.39787 47.67936)  MODERN ELECTRIC WATER COMPANY   \n",
              "\n",
              "   _2020_Census_Tract  \n",
              "0       53063001600.0  \n",
              "1       53063001600.0  \n",
              "2       53063001600.0  \n",
              "3       53063001600.0  \n",
              "4       53063001600.0  \n",
              "\n",
              "[5 rows x 17 columns]"
            ],
            "text/html": [
              "<div>\n",
              "<style scoped>\n",
              "    .dataframe tbody tr th:only-of-type {\n",
              "        vertical-align: middle;\n",
              "    }\n",
              "\n",
              "    .dataframe tbody tr th {\n",
              "        vertical-align: top;\n",
              "    }\n",
              "\n",
              "    .dataframe thead th {\n",
              "        text-align: right;\n",
              "    }\n",
              "</style>\n",
              "<table border=\"1\" class=\"dataframe\">\n",
              "  <thead>\n",
              "    <tr style=\"text-align: right;\">\n",
              "      <th></th>\n",
              "      <th>VIN__1_10_</th>\n",
              "      <th>County</th>\n",
              "      <th>City</th>\n",
              "      <th>State</th>\n",
              "      <th>Postal_Code</th>\n",
              "      <th>Model_Year</th>\n",
              "      <th>Make</th>\n",
              "      <th>Model</th>\n",
              "      <th>Electric_Vehicle_Type</th>\n",
              "      <th>Clean_Alternative_Fuel_Vehicle__CAFV__Eligibility</th>\n",
              "      <th>Electric_Range</th>\n",
              "      <th>Base_MSRP</th>\n",
              "      <th>Legislative_District</th>\n",
              "      <th>DOL_Vehicle_ID</th>\n",
              "      <th>Vehicle_Location</th>\n",
              "      <th>Electric_Utility</th>\n",
              "      <th>_2020_Census_Tract</th>\n",
              "    </tr>\n",
              "  </thead>\n",
              "  <tbody>\n",
              "    <tr>\n",
              "      <th>0</th>\n",
              "      <td>3FA6P0SU2E</td>\n",
              "      <td>Spokane</td>\n",
              "      <td>Spokane</td>\n",
              "      <td>WA</td>\n",
              "      <td>99207.0</td>\n",
              "      <td>2014</td>\n",
              "      <td>FORD</td>\n",
              "      <td>FUSION</td>\n",
              "      <td>Plug-in Hybrid Electric Vehicle (PHEV)</td>\n",
              "      <td>Not eligible due to low battery range</td>\n",
              "      <td>19</td>\n",
              "      <td>0</td>\n",
              "      <td>3.0</td>\n",
              "      <td>196204053</td>\n",
              "      <td>POINT (-117.39787 47.67936)</td>\n",
              "      <td>MODERN ELECTRIC WATER COMPANY</td>\n",
              "      <td>53063001600.0</td>\n",
              "    </tr>\n",
              "    <tr>\n",
              "      <th>1</th>\n",
              "      <td>JTDKN3DP5F</td>\n",
              "      <td>Spokane</td>\n",
              "      <td>Spokane</td>\n",
              "      <td>WA</td>\n",
              "      <td>99207.0</td>\n",
              "      <td>2015</td>\n",
              "      <td>TOYOTA</td>\n",
              "      <td>PRIUS PLUG-IN</td>\n",
              "      <td>Plug-in Hybrid Electric Vehicle (PHEV)</td>\n",
              "      <td>Not eligible due to low battery range</td>\n",
              "      <td>6</td>\n",
              "      <td>0</td>\n",
              "      <td>3.0</td>\n",
              "      <td>257412284</td>\n",
              "      <td>POINT (-117.39787 47.67936)</td>\n",
              "      <td>MODERN ELECTRIC WATER COMPANY</td>\n",
              "      <td>53063001600.0</td>\n",
              "    </tr>\n",
              "    <tr>\n",
              "      <th>2</th>\n",
              "      <td>JTDKARFP1H</td>\n",
              "      <td>Spokane</td>\n",
              "      <td>Spokane</td>\n",
              "      <td>WA</td>\n",
              "      <td>99207.0</td>\n",
              "      <td>2017</td>\n",
              "      <td>TOYOTA</td>\n",
              "      <td>PRIUS PRIME</td>\n",
              "      <td>Plug-in Hybrid Electric Vehicle (PHEV)</td>\n",
              "      <td>Not eligible due to low battery range</td>\n",
              "      <td>25</td>\n",
              "      <td>0</td>\n",
              "      <td>3.0</td>\n",
              "      <td>181736264</td>\n",
              "      <td>POINT (-117.39787 47.67936)</td>\n",
              "      <td>MODERN ELECTRIC WATER COMPANY</td>\n",
              "      <td>53063001600.0</td>\n",
              "    </tr>\n",
              "    <tr>\n",
              "      <th>3</th>\n",
              "      <td>3FA6P0PU4D</td>\n",
              "      <td>Spokane</td>\n",
              "      <td>Spokane</td>\n",
              "      <td>WA</td>\n",
              "      <td>99207.0</td>\n",
              "      <td>2013</td>\n",
              "      <td>FORD</td>\n",
              "      <td>FUSION</td>\n",
              "      <td>Plug-in Hybrid Electric Vehicle (PHEV)</td>\n",
              "      <td>Not eligible due to low battery range</td>\n",
              "      <td>19</td>\n",
              "      <td>0</td>\n",
              "      <td>3.0</td>\n",
              "      <td>175243848</td>\n",
              "      <td>POINT (-117.39787 47.67936)</td>\n",
              "      <td>MODERN ELECTRIC WATER COMPANY</td>\n",
              "      <td>53063001600.0</td>\n",
              "    </tr>\n",
              "    <tr>\n",
              "      <th>4</th>\n",
              "      <td>1C4JJXR60N</td>\n",
              "      <td>Spokane</td>\n",
              "      <td>Spokane</td>\n",
              "      <td>WA</td>\n",
              "      <td>99207.0</td>\n",
              "      <td>2022</td>\n",
              "      <td>JEEP</td>\n",
              "      <td>WRANGLER</td>\n",
              "      <td>Plug-in Hybrid Electric Vehicle (PHEV)</td>\n",
              "      <td>Not eligible due to low battery range</td>\n",
              "      <td>22</td>\n",
              "      <td>0</td>\n",
              "      <td>3.0</td>\n",
              "      <td>204662489</td>\n",
              "      <td>POINT (-117.39787 47.67936)</td>\n",
              "      <td>MODERN ELECTRIC WATER COMPANY</td>\n",
              "      <td>53063001600.0</td>\n",
              "    </tr>\n",
              "  </tbody>\n",
              "</table>\n",
              "<p>5 rows × 17 columns</p>\n",
              "</div>[5 rows x 17 columns in total]"
            ]
          },
          "metadata": {},
          "execution_count": 37
        }
      ]
    },
    {
      "cell_type": "code",
      "source": [
        "df.shape"
      ],
      "metadata": {
        "colab": {
          "base_uri": "https://localhost:8080/"
        },
        "id": "hHEq56inhFAo",
        "executionInfo": {
          "status": "ok",
          "timestamp": 1713382560564,
          "user_tz": -330,
          "elapsed": 5,
          "user": {
            "displayName": "",
            "userId": ""
          }
        },
        "outputId": "26b30c70-4a34-4ea5-93f7-32b49b97904b"
      },
      "id": "hHEq56inhFAo",
      "execution_count": 36,
      "outputs": [
        {
          "output_type": "execute_result",
          "data": {
            "text/plain": [
              "(177866, 17)"
            ]
          },
          "metadata": {},
          "execution_count": 36
        }
      ]
    },
    {
      "cell_type": "code",
      "source": [
        "# Summary statistics\n",
        "summary_stats = df.describe()\n",
        "print(summary_stats)\n"
      ],
      "metadata": {
        "colab": {
          "base_uri": "https://localhost:8080/",
          "height": 433
        },
        "id": "oRG58IaFhFDE",
        "executionInfo": {
          "status": "ok",
          "timestamp": 1713383731663,
          "user_tz": -330,
          "elapsed": 9551,
          "user": {
            "displayName": "",
            "userId": ""
          }
        },
        "outputId": "bdee45b8-aa0f-42fc-ea62-749f2a917587"
      },
      "id": "oRG58IaFhFDE",
      "execution_count": 40,
      "outputs": [
        {
          "output_type": "display_data",
          "data": {
            "text/plain": [
              "<IPython.core.display.HTML object>"
            ],
            "text/html": [
              "Query job c600fbde-088d-4c0f-911c-6f2eeb0a39d0 is DONE. 10.0 MB processed. <a target=\"_blank\" href=\"https://console.cloud.google.com/bigquery?project=direct-outlet-420617&j=bq:US:c600fbde-088d-4c0f-911c-6f2eeb0a39d0&page=queryresults\">Open Job</a>"
            ]
          },
          "metadata": {}
        },
        {
          "output_type": "display_data",
          "data": {
            "text/plain": [
              "<IPython.core.display.HTML object>"
            ],
            "text/html": [
              "Query job e73b56db-d951-47ad-b56b-2a2d5303b6de is DONE. 0 Bytes processed. <a target=\"_blank\" href=\"https://console.cloud.google.com/bigquery?project=direct-outlet-420617&j=bq:US:e73b56db-d951-47ad-b56b-2a2d5303b6de&page=queryresults\">Open Job</a>"
            ]
          },
          "metadata": {}
        },
        {
          "output_type": "display_data",
          "data": {
            "text/plain": [
              "<IPython.core.display.HTML object>"
            ],
            "text/html": [
              "Query job f2c19fdd-de52-48cc-b0e0-d61588bd3200 is DONE. 555 Bytes processed. <a target=\"_blank\" href=\"https://console.cloud.google.com/bigquery?project=direct-outlet-420617&j=bq:US:f2c19fdd-de52-48cc-b0e0-d61588bd3200&page=queryresults\">Open Job</a>"
            ]
          },
          "metadata": {}
        },
        {
          "output_type": "stream",
          "name": "stdout",
          "text": [
            "        Postal_Code   Model_Year  Electric_Range    Base_MSRP  \\\n",
            "count      177861.0     177866.0        177866.0     177866.0   \n",
            "mean   98172.453506  2020.515512       58.842162  1073.109363   \n",
            "std     2442.450668     2.989384       91.981298  8358.624956   \n",
            "min          1545.0       1997.0             0.0          0.0   \n",
            "25%         98052.0       2019.0             0.0          0.0   \n",
            "50%         98122.0       2022.0             0.0          0.0   \n",
            "75%         98370.0       2023.0            75.0          0.0   \n",
            "max         99577.0       2024.0           337.0     845000.0   \n",
            "\n",
            "       Legislative_District    DOL_Vehicle_ID  _2020_Census_Tract  \n",
            "count              177477.0          177866.0            177861.0  \n",
            "mean              29.127481  220231266.054549  52976721055.557243  \n",
            "std               14.892169   75849866.122565   1578046771.166911  \n",
            "min                     1.0            4385.0        1001020100.0  \n",
            "25%                    17.0       180708608.0       53033009802.0  \n",
            "50%                    33.0       228248030.0       53033029508.0  \n",
            "75%                    42.0       254918646.0       53053072601.0  \n",
            "max                    49.0       479254772.0       56033000100.0  \n",
            "\n",
            "[8 rows x 7 columns]\n"
          ]
        }
      ]
    },
    {
      "cell_type": "code",
      "source": [
        "import matplotlib.pyplot as plt\n",
        "plt.hist(df['Electric_Range'], bins=20, color='skyblue', edgecolor='black')\n",
        "plt.xlabel('Electric Range')\n",
        "plt.ylabel('Frequency')\n",
        "plt.title('Distribution of Electric Range')\n",
        "plt.show()"
      ],
      "metadata": {
        "colab": {
          "base_uri": "https://localhost:8080/",
          "height": 489
        },
        "id": "vszkQDelhFGY",
        "executionInfo": {
          "status": "ok",
          "timestamp": 1713383977025,
          "user_tz": -330,
          "elapsed": 4276,
          "user": {
            "displayName": "",
            "userId": ""
          }
        },
        "outputId": "1e4b56c8-45fe-4d06-8cd5-bf04b50a6f53"
      },
      "id": "vszkQDelhFGY",
      "execution_count": 41,
      "outputs": [
        {
          "output_type": "display_data",
          "data": {
            "text/plain": [
              "<IPython.core.display.HTML object>"
            ],
            "text/html": [
              "Query job 77cb1427-c085-4759-be41-ad607ad96eee is DONE. 4.3 MB processed. <a target=\"_blank\" href=\"https://console.cloud.google.com/bigquery?project=direct-outlet-420617&j=bq:US:77cb1427-c085-4759-be41-ad607ad96eee&page=queryresults\">Open Job</a>"
            ]
          },
          "metadata": {}
        },
        {
          "output_type": "display_data",
          "data": {
            "text/plain": [
              "<Figure size 640x480 with 1 Axes>"
            ],
            "image/png": "[encoded data removed]"
          },
          "metadata": {}
        }
      ]
    },
    {
      "cell_type": "code",
      "source": [
        "# Count of electric vehicles by make\n",
        "make_counts = df['Make'].value_counts()\n",
        "print(make_counts)\n",
        "\n",
        "# Count of electric vehicles by model year\n",
        "model_year_counts = df['Model_Year'].value_counts()\n",
        "print(model_year_counts)\n"
      ],
      "metadata": {
        "colab": {
          "base_uri": "https://localhost:8080/",
          "height": 1000
        },
        "id": "9eqfOEYvqQSe",
        "executionInfo": {
          "status": "ok",
          "timestamp": 1713384282219,
          "user_tz": -330,
          "elapsed": 13496,
          "user": {
            "displayName": "",
            "userId": ""
          }
        },
        "outputId": "ebf63116-a605-447c-bd2e-3b4d4898cd92"
      },
      "id": "9eqfOEYvqQSe",
      "execution_count": 42,
      "outputs": [
        {
          "output_type": "display_data",
          "data": {
            "text/plain": [
              "<IPython.core.display.HTML object>"
            ],
            "text/html": [
              "Query job e78e1f27-152d-4b99-9ed2-67a2621aee84 is DONE. 1.3 MB processed. <a target=\"_blank\" href=\"https://console.cloud.google.com/bigquery?project=direct-outlet-420617&j=bq:US:e78e1f27-152d-4b99-9ed2-67a2621aee84&page=queryresults\">Open Job</a>"
            ]
          },
          "metadata": {}
        },
        {
          "output_type": "display_data",
          "data": {
            "text/plain": [
              "<IPython.core.display.HTML object>"
            ],
            "text/html": [
              "Query job 0dac4b43-f5f0-42fe-8be1-adb026bf47df is DONE. 0 Bytes processed. <a target=\"_blank\" href=\"https://console.cloud.google.com/bigquery?project=direct-outlet-420617&j=bq:US:0dac4b43-f5f0-42fe-8be1-adb026bf47df&page=queryresults\">Open Job</a>"
            ]
          },
          "metadata": {}
        },
        {
          "output_type": "display_data",
          "data": {
            "text/plain": [
              "<IPython.core.display.HTML object>"
            ],
            "text/html": [
              "Query job 170a644c-67a6-49e6-a43f-20235d62e777 is DONE. 1.3 kB processed. <a target=\"_blank\" href=\"https://console.cloud.google.com/bigquery?project=direct-outlet-420617&j=bq:US:170a644c-67a6-49e6-a43f-20235d62e777&page=queryresults\">Open Job</a>"
            ]
          },
          "metadata": {}
        },
        {
          "output_type": "stream",
          "name": "stdout",
          "text": [
            "Make\n",
            "TESLA            79659\n",
            "NISSAN           13998\n",
            "CHEVROLET        13678\n",
            "FORD              9199\n",
            "BMW               7570\n",
            "KIA               7432\n",
            "TOYOTA            6288\n",
            "VOLKSWAGEN        5004\n",
            "JEEP              4480\n",
            "HYUNDAI           4406\n",
            "RIVIAN            4312\n",
            "VOLVO             4133\n",
            "AUDI              3646\n",
            "CHRYSLER          2993\n",
            "MERCEDES-BENZ     1589\n",
            "PORSCHE           1139\n",
            "MITSUBISHI         958\n",
            "MINI               898\n",
            "POLESTAR           882\n",
            "HONDA              833\n",
            "SUBARU             831\n",
            "FIAT               784\n",
            "DODGE              568\n",
            "MAZDA              476\n",
            "CADILLAC           382\n",
            "Name: count, dtype: Int64\n"
          ]
        },
        {
          "output_type": "display_data",
          "data": {
            "text/plain": [
              "<IPython.core.display.HTML object>"
            ],
            "text/html": [
              "Query job a634632a-0a8d-483d-8c46-b440f81fb037 is DONE. 1.4 MB processed. <a target=\"_blank\" href=\"https://console.cloud.google.com/bigquery?project=direct-outlet-420617&j=bq:US:a634632a-0a8d-483d-8c46-b440f81fb037&page=queryresults\">Open Job</a>"
            ]
          },
          "metadata": {}
        },
        {
          "output_type": "display_data",
          "data": {
            "text/plain": [
              "<IPython.core.display.HTML object>"
            ],
            "text/html": [
              "Query job e6ae4491-110a-4037-9129-050d15f12361 is DONE. 0 Bytes processed. <a target=\"_blank\" href=\"https://console.cloud.google.com/bigquery?project=direct-outlet-420617&j=bq:US:e6ae4491-110a-4037-9129-050d15f12361&page=queryresults\">Open Job</a>"
            ]
          },
          "metadata": {}
        },
        {
          "output_type": "display_data",
          "data": {
            "text/plain": [
              "<IPython.core.display.HTML object>"
            ],
            "text/html": [
              "Query job 1a007a6e-9d7c-4ead-88fe-f471446f3a62 is DONE. 704 Bytes processed. <a target=\"_blank\" href=\"https://console.cloud.google.com/bigquery?project=direct-outlet-420617&j=bq:US:1a007a6e-9d7c-4ead-88fe-f471446f3a62&page=queryresults\">Open Job</a>"
            ]
          },
          "metadata": {}
        },
        {
          "output_type": "stream",
          "name": "stdout",
          "text": [
            "Model_Year\n",
            "2023    57587\n",
            "2022    27776\n",
            "2021    19132\n",
            "2018    14323\n",
            "2020    11768\n",
            "2019    10940\n",
            "2017     8562\n",
            "2024     7080\n",
            "2016     5483\n",
            "2015     4844\n",
            "2013     4409\n",
            "2014     3509\n",
            "2012     1618\n",
            "2011      775\n",
            "2010       23\n",
            "2008       20\n",
            "2000        7\n",
            "1999        5\n",
            "2002        2\n",
            "1997        1\n",
            "1998        1\n",
            "2003        1\n",
            "Name: count, dtype: Int64\n"
          ]
        }
      ]
    },
    {
      "cell_type": "code",
      "source": [
        "# Correlation matrix\n",
        "numeric_df = df.select_dtypes(include=['int64', 'float64'])\n",
        "correlation_matrix = numeric_df.corr()\n",
        "correlation_matrix"
      ],
      "metadata": {
        "colab": {
          "base_uri": "https://localhost:8080/",
          "height": 315
        },
        "id": "2vwo3wXEq6Uf",
        "executionInfo": {
          "status": "ok",
          "timestamp": 1713385229006,
          "user_tz": -330,
          "elapsed": 690,
          "user": {
            "displayName": "",
            "userId": ""
          }
        },
        "outputId": "c05ff799-2c70-4464-d7e8-a8822bcd5e70"
      },
      "id": "2vwo3wXEq6Uf",
      "execution_count": 47,
      "outputs": [
        {
          "output_type": "execute_result",
          "data": {
            "text/plain": [
              "                      Postal_Code  Model_Year  Electric_Range  Base_MSRP  \\\n",
              "Postal_Code                   1.0   -0.000064       -0.000402  -0.003592   \n",
              "Model_Year              -0.000064         1.0       -0.476852  -0.230492   \n",
              "Electric_Range          -0.000402   -0.476852             1.0   0.108231   \n",
              "Base_MSRP               -0.003592   -0.230492        0.108231        1.0   \n",
              "Legislative_District    -0.411117   -0.016408        0.021739   0.011902   \n",
              "DOL_Vehicle_ID           0.006472    0.134835       -0.093874  -0.027383   \n",
              "_2020_Census_Tract       0.497517    0.007564       -0.000929  -0.000613   \n",
              "\n",
              "                      Legislative_District  DOL_Vehicle_ID  _2020_Census_Tract  \n",
              "Postal_Code                      -0.411117        0.006472            0.497517  \n",
              "Model_Year                       -0.016408        0.134835            0.007564  \n",
              "Electric_Range                    0.021739       -0.093874           -0.000929  \n",
              "Base_MSRP                         0.011902       -0.027383           -0.000613  \n",
              "Legislative_District                   1.0       -0.012128           -0.103165  \n",
              "DOL_Vehicle_ID                   -0.012128             1.0            0.003449  \n",
              "_2020_Census_Tract               -0.103165        0.003449                 1.0  \n",
              "\n",
              "[7 rows x 7 columns]"
            ],
            "text/html": [
              "<div>\n",
              "<style scoped>\n",
              "    .dataframe tbody tr th:only-of-type {\n",
              "        vertical-align: middle;\n",
              "    }\n",
              "\n",
              "    .dataframe tbody tr th {\n",
              "        vertical-align: top;\n",
              "    }\n",
              "\n",
              "    .dataframe thead th {\n",
              "        text-align: right;\n",
              "    }\n",
              "</style>\n",
              "<table border=\"1\" class=\"dataframe\">\n",
              "  <thead>\n",
              "    <tr style=\"text-align: right;\">\n",
              "      <th></th>\n",
              "      <th>Postal_Code</th>\n",
              "      <th>Model_Year</th>\n",
              "      <th>Electric_Range</th>\n",
              "      <th>Base_MSRP</th>\n",
              "      <th>Legislative_District</th>\n",
              "      <th>DOL_Vehicle_ID</th>\n",
              "      <th>_2020_Census_Tract</th>\n",
              "    </tr>\n",
              "  </thead>\n",
              "  <tbody>\n",
              "    <tr>\n",
              "      <th>Postal_Code</th>\n",
              "      <td>1.0</td>\n",
              "      <td>-0.000064</td>\n",
              "      <td>-0.000402</td>\n",
              "      <td>-0.003592</td>\n",
              "      <td>-0.411117</td>\n",
              "      <td>0.006472</td>\n",
              "      <td>0.497517</td>\n",
              "    </tr>\n",
              "    <tr>\n",
              "      <th>Model_Year</th>\n",
              "      <td>-0.000064</td>\n",
              "      <td>1.0</td>\n",
              "      <td>-0.476852</td>\n",
              "      <td>-0.230492</td>\n",
              "      <td>-0.016408</td>\n",
              "      <td>0.134835</td>\n",
              "      <td>0.007564</td>\n",
              "    </tr>\n",
              "    <tr>\n",
              "      <th>Electric_Range</th>\n",
              "      <td>-0.000402</td>\n",
              "      <td>-0.476852</td>\n",
              "      <td>1.0</td>\n",
              "      <td>0.108231</td>\n",
              "      <td>0.021739</td>\n",
              "      <td>-0.093874</td>\n",
              "      <td>-0.000929</td>\n",
              "    </tr>\n",
              "    <tr>\n",
              "      <th>Base_MSRP</th>\n",
              "      <td>-0.003592</td>\n",
              "      <td>-0.230492</td>\n",
              "      <td>0.108231</td>\n",
              "      <td>1.0</td>\n",
              "      <td>0.011902</td>\n",
              "      <td>-0.027383</td>\n",
              "      <td>-0.000613</td>\n",
              "    </tr>\n",
              "    <tr>\n",
              "      <th>Legislative_District</th>\n",
              "      <td>-0.411117</td>\n",
              "      <td>-0.016408</td>\n",
              "      <td>0.021739</td>\n",
              "      <td>0.011902</td>\n",
              "      <td>1.0</td>\n",
              "      <td>-0.012128</td>\n",
              "      <td>-0.103165</td>\n",
              "    </tr>\n",
              "    <tr>\n",
              "      <th>DOL_Vehicle_ID</th>\n",
              "      <td>0.006472</td>\n",
              "      <td>0.134835</td>\n",
              "      <td>-0.093874</td>\n",
              "      <td>-0.027383</td>\n",
              "      <td>-0.012128</td>\n",
              "      <td>1.0</td>\n",
              "      <td>0.003449</td>\n",
              "    </tr>\n",
              "    <tr>\n",
              "      <th>_2020_Census_Tract</th>\n",
              "      <td>0.497517</td>\n",
              "      <td>0.007564</td>\n",
              "      <td>-0.000929</td>\n",
              "      <td>-0.000613</td>\n",
              "      <td>-0.103165</td>\n",
              "      <td>0.003449</td>\n",
              "      <td>1.0</td>\n",
              "    </tr>\n",
              "  </tbody>\n",
              "</table>\n",
              "<p>7 rows × 7 columns</p>\n",
              "</div>[7 rows x 7 columns in total]"
            ]
          },
          "metadata": {},
          "execution_count": 47
        }
      ]
    },
    {
      "cell_type": "code",
      "source": [
        "\n",
        "# Scatter plot of Electric Range vs Base MSRP\n",
        "plt.scatter(df['Electric_Range'], df['Base_MSRP'], alpha=0.5)\n",
        "plt.xlabel('Electric Range')\n",
        "plt.ylabel('Base MSRP')\n",
        "plt.title('Electric Range vs Base MSRP')\n",
        "plt.show()\n"
      ],
      "metadata": {
        "colab": {
          "base_uri": "https://localhost:8080/",
          "height": 802
        },
        "id": "Q7EhIRW9twvT",
        "executionInfo": {
          "status": "ok",
          "timestamp": 1713385309677,
          "user_tz": -330,
          "elapsed": 74361,
          "user": {
            "displayName": "",
            "userId": ""
          }
        },
        "outputId": "8d8e6bfc-c0d9-486b-9dd4-a0484cacbdf9"
      },
      "id": "Q7EhIRW9twvT",
      "execution_count": 48,
      "outputs": [
        {
          "output_type": "display_data",
          "data": {
            "text/plain": [
              "<IPython.core.display.HTML object>"
            ],
            "text/html": [
              "Query job 59ad532b-9ab5-4a6c-9151-4f5f4137f18a is DONE. 0 Bytes processed. <a target=\"_blank\" href=\"https://console.cloud.google.com/bigquery?project=direct-outlet-420617&j=bq:US:59ad532b-9ab5-4a6c-9151-4f5f4137f18a&page=queryresults\">Open Job</a>"
            ]
          },
          "metadata": {}
        },
        {
          "output_type": "display_data",
          "data": {
            "text/plain": [
              "<IPython.core.display.HTML object>"
            ],
            "text/html": [
              "Query job 934c3050-7829-40bf-a62d-c8eabb335d7e is DONE. 0 Bytes processed. <a target=\"_blank\" href=\"https://console.cloud.google.com/bigquery?project=direct-outlet-420617&j=bq:US:934c3050-7829-40bf-a62d-c8eabb335d7e&page=queryresults\">Open Job</a>"
            ]
          },
          "metadata": {}
        },
        {
          "output_type": "display_data",
          "data": {
            "text/plain": [
              "<IPython.core.display.HTML object>"
            ],
            "text/html": [
              "Query job ca3e9da7-cf50-46f1-9792-73a464be3e63 is DONE. 0 Bytes processed. <a target=\"_blank\" href=\"https://console.cloud.google.com/bigquery?project=direct-outlet-420617&j=bq:US:ca3e9da7-cf50-46f1-9792-73a464be3e63&page=queryresults\">Open Job</a>"
            ]
          },
          "metadata": {}
        },
        {
          "output_type": "display_data",
          "data": {
            "text/plain": [
              "<IPython.core.display.HTML object>"
            ],
            "text/html": [
              "Query job e8465396-ea01-464a-b056-e329ea958ca0 is DONE. 0 Bytes processed. <a target=\"_blank\" href=\"https://console.cloud.google.com/bigquery?project=direct-outlet-420617&j=bq:US:e8465396-ea01-464a-b056-e329ea958ca0&page=queryresults\">Open Job</a>"
            ]
          },
          "metadata": {}
        },
        {
          "output_type": "stream",
          "name": "stderr",
          "text": [
            "Exception ignored in: <generator object RowIterator._to_page_iterable at 0x7e95a3dcb8b0>\n",
            "Traceback (most recent call last):\n",
            "  File \"/usr/local/lib/python3.10/dist-packages/google/cloud/bigquery/table.py\", line 1688, in _to_page_iterable\n",
            "    yield from result_pages\n",
            "  File \"/usr/local/lib/python3.10/dist-packages/google/cloud/bigquery/_pandas_helpers.py\", line 973, in _download_table_bqstorage\n",
            "    pool.shutdown(wait=True)\n",
            "  File \"/usr/lib/python3.10/concurrent/futures/thread.py\", line 235, in shutdown\n",
            "    t.join()\n",
            "  File \"/usr/lib/python3.10/threading.py\", line 1096, in join\n",
            "    self._wait_for_tstate_lock()\n",
            "  File \"/usr/lib/python3.10/threading.py\", line 1116, in _wait_for_tstate_lock\n",
            "    if lock.acquire(block, timeout):\n",
            "KeyboardInterrupt: \n"
          ]
        },
        {
          "output_type": "display_data",
          "data": {
            "text/plain": [
              "<IPython.core.display.HTML object>"
            ],
            "text/html": [
              "Query job 9d7dd9a5-c361-45a5-b954-a98175c7c404 is DONE. 0 Bytes processed. <a target=\"_blank\" href=\"https://console.cloud.google.com/bigquery?project=direct-outlet-420617&j=bq:US:9d7dd9a5-c361-45a5-b954-a98175c7c404&page=queryresults\">Open Job</a>"
            ]
          },
          "metadata": {}
        },
        {
          "output_type": "display_data",
          "data": {
            "text/plain": [
              "<IPython.core.display.HTML object>"
            ],
            "text/html": [
              "Query job dbbc9b4c-72aa-42fc-ba59-771f1c9c99c1 is DONE. 0 Bytes processed. <a target=\"_blank\" href=\"https://console.cloud.google.com/bigquery?project=direct-outlet-420617&j=bq:US:dbbc9b4c-72aa-42fc-ba59-771f1c9c99c1&page=queryresults\">Open Job</a>"
            ]
          },
          "metadata": {}
        },
        {
          "output_type": "display_data",
          "data": {
            "text/plain": [
              "<Figure size 640x480 with 1 Axes>"
            ],
            "image/png": "[encoded data removed]"
          },
          "metadata": {}
        }
      ]
    },
    {
      "cell_type": "code",
      "source": [
        "# Count of electric vehicles by state\n",
        "state_counts = df['State'].value_counts()\n",
        "print(state_counts)\n",
        "\n",
        "# Count of electric vehicles by county\n",
        "county_counts = df['County'].value_counts()\n",
        "print(county_counts)\n",
        "\n",
        "# Count of electric vehicles by city\n",
        "city_counts = df['City'].value_counts()\n",
        "print(city_counts)\n"
      ],
      "metadata": {
        "colab": {
          "base_uri": "https://localhost:8080/",
          "height": 1000
        },
        "id": "kqPzWETAuHp9",
        "executionInfo": {
          "status": "ok",
          "timestamp": 1713385340139,
          "user_tz": -330,
          "elapsed": 20427,
          "user": {
            "displayName": "",
            "userId": ""
          }
        },
        "outputId": "158d7688-1f5f-413c-e0c7-ed8df749b75f"
      },
      "id": "kqPzWETAuHp9",
      "execution_count": 50,
      "outputs": [
        {
          "output_type": "display_data",
          "data": {
            "text/plain": [
              "<IPython.core.display.HTML object>"
            ],
            "text/html": [
              "Query job 55a116fe-04df-4a78-87f5-0edadfbc0534 is DONE. 711.5 kB processed. <a target=\"_blank\" href=\"https://console.cloud.google.com/bigquery?project=direct-outlet-420617&j=bq:US:55a116fe-04df-4a78-87f5-0edadfbc0534&page=queryresults\">Open Job</a>"
            ]
          },
          "metadata": {}
        },
        {
          "output_type": "display_data",
          "data": {
            "text/plain": [
              "<IPython.core.display.HTML object>"
            ],
            "text/html": [
              "Query job bfc28fb0-e6e7-4882-8fca-8901134bcb77 is DONE. 0 Bytes processed. <a target=\"_blank\" href=\"https://console.cloud.google.com/bigquery?project=direct-outlet-420617&j=bq:US:bfc28fb0-e6e7-4882-8fca-8901134bcb77&page=queryresults\">Open Job</a>"
            ]
          },
          "metadata": {}
        },
        {
          "output_type": "display_data",
          "data": {
            "text/plain": [
              "<IPython.core.display.HTML object>"
            ],
            "text/html": [
              "Query job 7c67653a-1e7c-43d0-a699-6ffceb297ac8 is DONE. 1.3 kB processed. <a target=\"_blank\" href=\"https://console.cloud.google.com/bigquery?project=direct-outlet-420617&j=bq:US:7c67653a-1e7c-43d0-a699-6ffceb297ac8&page=queryresults\">Open Job</a>"
            ]
          },
          "metadata": {}
        },
        {
          "output_type": "stream",
          "name": "stdout",
          "text": [
            "State\n",
            "WA    177477\n",
            "CA       101\n",
            "VA        46\n",
            "MD        31\n",
            "TX        23\n",
            "NC        16\n",
            "IL        15\n",
            "CO        12\n",
            "AZ        10\n",
            "FL        10\n",
            "HI         9\n",
            "NJ         8\n",
            "NV         8\n",
            "NY         7\n",
            "SC         7\n",
            "AL         6\n",
            "CT         6\n",
            "GA         6\n",
            "MA         5\n",
            "MO         5\n",
            "OR         5\n",
            "LA         4\n",
            "OH         4\n",
            "PA         4\n",
            "BC         3\n",
            "Name: count, dtype: Int64\n"
          ]
        },
        {
          "output_type": "display_data",
          "data": {
            "text/plain": [
              "<IPython.core.display.HTML object>"
            ],
            "text/html": [
              "Query job 4ff5a11f-e18b-4eb5-9443-3167368cd100 is DONE. 1.3 MB processed. <a target=\"_blank\" href=\"https://console.cloud.google.com/bigquery?project=direct-outlet-420617&j=bq:US:4ff5a11f-e18b-4eb5-9443-3167368cd100&page=queryresults\">Open Job</a>"
            ]
          },
          "metadata": {}
        },
        {
          "output_type": "display_data",
          "data": {
            "text/plain": [
              "<IPython.core.display.HTML object>"
            ],
            "text/html": [
              "Query job 37be0d4f-fc11-4b75-9ac8-bbcbe3329dc3 is DONE. 0 Bytes processed. <a target=\"_blank\" href=\"https://console.cloud.google.com/bigquery?project=direct-outlet-420617&j=bq:US:37be0d4f-fc11-4b75-9ac8-bbcbe3329dc3&page=queryresults\">Open Job</a>"
            ]
          },
          "metadata": {}
        },
        {
          "output_type": "display_data",
          "data": {
            "text/plain": [
              "<IPython.core.display.HTML object>"
            ],
            "text/html": [
              "Query job cc1e6036-14cb-46bc-b413-509bbaabc008 is DONE. 6.6 kB processed. <a target=\"_blank\" href=\"https://console.cloud.google.com/bigquery?project=direct-outlet-420617&j=bq:US:cc1e6036-14cb-46bc-b413-509bbaabc008&page=queryresults\">Open Job</a>"
            ]
          },
          "metadata": {}
        },
        {
          "output_type": "stream",
          "name": "stdout",
          "text": [
            "County\n",
            "King            92740\n",
            "Snohomish       21001\n",
            "Pierce          13782\n",
            "Clark           10416\n",
            "Thurston         6428\n",
            "Kitsap           5840\n",
            "Spokane          4586\n",
            "Whatcom          4253\n",
            "Benton           2147\n",
            "Skagit           1910\n",
            "Island           1882\n",
            "Clallam          1058\n",
            "Chelan           1047\n",
            "Yakima            995\n",
            "Jefferson         977\n",
            "San Juan          942\n",
            "Cowlitz           897\n",
            "Mason             823\n",
            "Lewis             739\n",
            "Grays Harbor      625\n",
            "Kittitas          623\n",
            "Franklin          585\n",
            "Grant             561\n",
            "Walla Walla       437\n",
            "Douglas           366\n",
            "Name: count, dtype: Int64\n"
          ]
        },
        {
          "output_type": "display_data",
          "data": {
            "text/plain": [
              "<IPython.core.display.HTML object>"
            ],
            "text/html": [
              "Query job b9cf7858-5105-4b3e-9bb3-bf02e81da4ac is DONE. 1.8 MB processed. <a target=\"_blank\" href=\"https://console.cloud.google.com/bigquery?project=direct-outlet-420617&j=bq:US:b9cf7858-5105-4b3e-9bb3-bf02e81da4ac&page=queryresults\">Open Job</a>"
            ]
          },
          "metadata": {}
        },
        {
          "output_type": "display_data",
          "data": {
            "text/plain": [
              "<IPython.core.display.HTML object>"
            ],
            "text/html": [
              "Query job 715a1398-3e1d-46a5-8f08-b57288816487 is DONE. 0 Bytes processed. <a target=\"_blank\" href=\"https://console.cloud.google.com/bigquery?project=direct-outlet-420617&j=bq:US:715a1398-3e1d-46a5-8f08-b57288816487&page=queryresults\">Open Job</a>"
            ]
          },
          "metadata": {}
        },
        {
          "output_type": "display_data",
          "data": {
            "text/plain": [
              "<IPython.core.display.HTML object>"
            ],
            "text/html": [
              "Query job 56efcf25-30d4-464e-a163-526eb59b2e30 is DONE. 25.1 kB processed. <a target=\"_blank\" href=\"https://console.cloud.google.com/bigquery?project=direct-outlet-420617&j=bq:US:56efcf25-30d4-464e-a163-526eb59b2e30&page=queryresults\">Open Job</a>"
            ]
          },
          "metadata": {}
        },
        {
          "output_type": "stream",
          "name": "stdout",
          "text": [
            "City\n",
            "Seattle              29447\n",
            "Bellevue              8931\n",
            "Redmond               6478\n",
            "Vancouver             6193\n",
            "Bothell               5863\n",
            "Kirkland              5362\n",
            "Sammamish             5280\n",
            "Renton                4980\n",
            "Olympia               4299\n",
            "Tacoma                3722\n",
            "Bellingham            2941\n",
            "Tukwila               2927\n",
            "Kent                  2782\n",
            "Issaquah              2764\n",
            "Spokane               2735\n",
            "Lynnwood              2726\n",
            "Everett               2475\n",
            "Woodinville           2352\n",
            "Mercer Island         2344\n",
            "Snohomish             2102\n",
            "Shoreline             1953\n",
            "Gig Harbor            1949\n",
            "Auburn                1897\n",
            "Edmonds               1896\n",
            "Bainbridge Island     1760\n",
            "Name: count, dtype: Int64\n"
          ]
        }
      ]
    },
    {
      "cell_type": "code",
      "source": [
        "# Count of electric vehicles by model year\n",
        "model_year_counts = df['Model_Year'].value_counts().sort_index()\n",
        "plt.plot(model_year_counts.index, model_year_counts.values, marker='o')\n",
        "plt.xlabel('Model Year')\n",
        "plt.ylabel('Number of Electric Vehicles')\n",
        "plt.title('Electric Vehicle Population by Model Year')\n",
        "plt.xticks(rotation=45)\n",
        "plt.grid(True)\n",
        "plt.show()\n"
      ],
      "metadata": {
        "colab": {
          "base_uri": "https://localhost:8080/",
          "height": 527
        },
        "id": "aigBbPpNuXXf",
        "executionInfo": {
          "status": "ok",
          "timestamp": 1713385352958,
          "user_tz": -330,
          "elapsed": 5131,
          "user": {
            "displayName": "",
            "userId": ""
          }
        },
        "outputId": "4c76a445-ad99-4715-cd2f-3ab251088e3a"
      },
      "id": "aigBbPpNuXXf",
      "execution_count": 51,
      "outputs": [
        {
          "output_type": "display_data",
          "data": {
            "text/plain": [
              "<IPython.core.display.HTML object>"
            ],
            "text/html": [
              "Query job 99a3a7e6-746b-4c0c-81b4-4fe71b62a97d is DONE. 1.4 MB processed. <a target=\"_blank\" href=\"https://console.cloud.google.com/bigquery?project=direct-outlet-420617&j=bq:US:99a3a7e6-746b-4c0c-81b4-4fe71b62a97d&page=queryresults\">Open Job</a>"
            ]
          },
          "metadata": {}
        },
        {
          "output_type": "display_data",
          "data": {
            "text/plain": [
              "<IPython.core.display.HTML object>"
            ],
            "text/html": [
              "Query job 7c863f05-52ba-4472-a72f-441e7883fef9 is DONE. 1.4 MB processed. <a target=\"_blank\" href=\"https://console.cloud.google.com/bigquery?project=direct-outlet-420617&j=bq:US:7c863f05-52ba-4472-a72f-441e7883fef9&page=queryresults\">Open Job</a>"
            ]
          },
          "metadata": {}
        },
        {
          "output_type": "display_data",
          "data": {
            "text/plain": [
              "<Figure size 640x480 with 1 Axes>"
            ],
            "image/png": "[encoded data removed]"
          },
          "metadata": {}
        }
      ]
    }
  ],
  "metadata": {
    "kernelspec": {
      "display_name": "Python 3",
      "language": "python",
      "name": "python3"
    },
    "language_info": {
      "codemirror_mode": {
        "name": "ipython",
        "version": 3
      },
      "file_extension": ".py",
      "mimetype": "text/x-python",
      "name": "python",
      "nbconvert_exporter": "python",
      "pygments_lexer": "ipython3",
      "version": "3.10.10"
    },
    "colab": {
      "provenance": [],
      "name": "sidharth2197 (17 Apr 2024, 23:28:21)"
    }
  },
  "nbformat": 4,
  "nbformat_minor": 5
}
